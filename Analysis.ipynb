{
 "cells": [
  {
   "cell_type": "markdown",
   "source": [
    "# Análisis Exploratorio\n",
    "\n",
    "TODO\n",
    "- [x] Comience describiendo cuantas variables y observaciones tiene disponibles, el tipo de cada una de las variables.\n",
    "- [x] Haga un resumen de las variables numéricas e investigue si siguen una distribución normal y tablas de frecuencia para las variables categóricas, escriba lo que vaya encontrando.\n",
    "- [ ] Encoding de las variables categóricas.\n",
    "- [x] Arreglar estado_pil\n",
    "- [ ] Cruce las variables que considere que son las más importantes para hallar los elementos clave que lo pueden llevar a comprender lo que está causando el problema encontrado.\n",
    "- [ ] Haga gráficos exploratorios que le de ideas del estado de los datos.\n",
    "- [ ] Haga un agrupamiento (clustering) e interprete los resultados. "
   ],
   "metadata": {
    "collapsed": false
   },
   "id": "171240b9f3d6fc5f"
  },
  {
   "cell_type": "code",
   "execution_count": 348,
   "id": "initial_id",
   "metadata": {
    "collapsed": true,
    "ExecuteTime": {
     "end_time": "2024-03-17T00:42:35.789938600Z",
     "start_time": "2024-03-17T00:42:35.687949300Z"
    }
   },
   "outputs": [],
   "source": [
    "import pandas as pd\n",
    "import seaborn as sns\n",
    "import matplotlib.pyplot as plt\n",
    "import numpy as np\n",
    "\n",
    "# Set seeds for reproducibility\n",
    "np.random.seed(2024)\n",
    "seed = 2024"
   ]
  },
  {
   "cell_type": "code",
   "outputs": [],
   "source": [
    "# Load the data\n",
    "df_2011 = pd.read_csv('data/2011.csv')\n",
    "df_2013 = pd.read_csv('data/2013.csv')\n",
    "df_2014 = pd.read_csv('data/2014.csv')\n",
    "df_2016 = pd.read_csv('data/2016.csv')\n",
    "df_2017 = pd.read_csv('data/2017.csv')\n",
    "df_2018 = pd.read_csv('data/2018.csv')\n",
    "df_2019 = pd.read_csv('data/2019.csv')\n",
    "df_2020 = pd.read_csv('data/2020.csv')\n",
    "df_2022 = pd.read_csv('data/2022.csv')"
   ],
   "metadata": {
    "collapsed": false,
    "ExecuteTime": {
     "end_time": "2024-03-17T00:42:35.950081Z",
     "start_time": "2024-03-17T00:42:35.792929700Z"
    }
   },
   "id": "4d0d5c2bf1dfdd17",
   "execution_count": 349
  },
  {
   "cell_type": "code",
   "outputs": [],
   "source": [
    "# Concatenate the data with only the columns that are present in the df_2011\n",
    "df = pd.concat([\n",
    "    df_2011,\n",
    "    df_2013,\n",
    "    df_2014,\n",
    "    df_2016,\n",
    "    df_2017,\n",
    "    df_2018,\n",
    "    df_2019,\n",
    "    df_2020,\n",
    "    df_2022\n",
    "], axis=0, ignore_index=True)"
   ],
   "metadata": {
    "collapsed": false,
    "ExecuteTime": {
     "end_time": "2024-03-17T00:42:35.967734500Z",
     "start_time": "2024-03-17T00:42:35.942699700Z"
    }
   },
   "id": "50402c6ac59d012b",
   "execution_count": 350
  },
  {
   "cell_type": "code",
   "outputs": [
    {
     "data": {
      "text/plain": "   dia_ocu     mes_ocu dia_sem_ocu hora_ocu       depto_ocu  zona_ocu  \\\n0       27       Junio       Lunes       17       Guatemala        10   \n1       18  Septiembre     Domingo        0       Guatemala         7   \n2        5     Octubre   Miercoles       19  Quetzaltenango  Ignorado   \n3       15     Febrero      Martes       12          Izabal  Ignorado   \n4       17       Junio     Viernes       18       Guatemala        11   \n\n  sexo_pil edad_pil mayor_menor estado_pil  tipo_vehi  marca_vehi causa_acc  \\\n0   Hombre       42       Mayor     Normal  Automovil        Audi  Colisión   \n1   Hombre       25       Mayor      Ebrio  Automovil        Audi   Empotro   \n2   Hombre       26       Mayor      Ebrio  Automovil        Audi  Colisión   \n3   Hombre       59       Mayor   Ignorado  Camioneta  Land rover  Colisión   \n4    Mujer       25       Mayor     Normal  Camioneta  Land rover  Colisión   \n\n   year  \n0  2011  \n1  2011  \n2  2011  \n3  2011  \n4  2011  ",
      "text/html": "<div>\n<style scoped>\n    .dataframe tbody tr th:only-of-type {\n        vertical-align: middle;\n    }\n\n    .dataframe tbody tr th {\n        vertical-align: top;\n    }\n\n    .dataframe thead th {\n        text-align: right;\n    }\n</style>\n<table border=\"1\" class=\"dataframe\">\n  <thead>\n    <tr style=\"text-align: right;\">\n      <th></th>\n      <th>dia_ocu</th>\n      <th>mes_ocu</th>\n      <th>dia_sem_ocu</th>\n      <th>hora_ocu</th>\n      <th>depto_ocu</th>\n      <th>zona_ocu</th>\n      <th>sexo_pil</th>\n      <th>edad_pil</th>\n      <th>mayor_menor</th>\n      <th>estado_pil</th>\n      <th>tipo_vehi</th>\n      <th>marca_vehi</th>\n      <th>causa_acc</th>\n      <th>year</th>\n    </tr>\n  </thead>\n  <tbody>\n    <tr>\n      <th>0</th>\n      <td>27</td>\n      <td>Junio</td>\n      <td>Lunes</td>\n      <td>17</td>\n      <td>Guatemala</td>\n      <td>10</td>\n      <td>Hombre</td>\n      <td>42</td>\n      <td>Mayor</td>\n      <td>Normal</td>\n      <td>Automovil</td>\n      <td>Audi</td>\n      <td>Colisión</td>\n      <td>2011</td>\n    </tr>\n    <tr>\n      <th>1</th>\n      <td>18</td>\n      <td>Septiembre</td>\n      <td>Domingo</td>\n      <td>0</td>\n      <td>Guatemala</td>\n      <td>7</td>\n      <td>Hombre</td>\n      <td>25</td>\n      <td>Mayor</td>\n      <td>Ebrio</td>\n      <td>Automovil</td>\n      <td>Audi</td>\n      <td>Empotro</td>\n      <td>2011</td>\n    </tr>\n    <tr>\n      <th>2</th>\n      <td>5</td>\n      <td>Octubre</td>\n      <td>Miercoles</td>\n      <td>19</td>\n      <td>Quetzaltenango</td>\n      <td>Ignorado</td>\n      <td>Hombre</td>\n      <td>26</td>\n      <td>Mayor</td>\n      <td>Ebrio</td>\n      <td>Automovil</td>\n      <td>Audi</td>\n      <td>Colisión</td>\n      <td>2011</td>\n    </tr>\n    <tr>\n      <th>3</th>\n      <td>15</td>\n      <td>Febrero</td>\n      <td>Martes</td>\n      <td>12</td>\n      <td>Izabal</td>\n      <td>Ignorado</td>\n      <td>Hombre</td>\n      <td>59</td>\n      <td>Mayor</td>\n      <td>Ignorado</td>\n      <td>Camioneta</td>\n      <td>Land rover</td>\n      <td>Colisión</td>\n      <td>2011</td>\n    </tr>\n    <tr>\n      <th>4</th>\n      <td>17</td>\n      <td>Junio</td>\n      <td>Viernes</td>\n      <td>18</td>\n      <td>Guatemala</td>\n      <td>11</td>\n      <td>Mujer</td>\n      <td>25</td>\n      <td>Mayor</td>\n      <td>Normal</td>\n      <td>Camioneta</td>\n      <td>Land rover</td>\n      <td>Colisión</td>\n      <td>2011</td>\n    </tr>\n  </tbody>\n</table>\n</div>"
     },
     "execution_count": 351,
     "metadata": {},
     "output_type": "execute_result"
    }
   ],
   "source": [
    "df.head()"
   ],
   "metadata": {
    "collapsed": false,
    "ExecuteTime": {
     "end_time": "2024-03-17T00:42:35.993585Z",
     "start_time": "2024-03-17T00:42:35.963122Z"
    }
   },
   "id": "da4dbda93cb98e97",
   "execution_count": 351
  },
  {
   "cell_type": "code",
   "outputs": [
    {
     "name": "stdout",
     "output_type": "stream",
     "text": [
      "<class 'pandas.core.frame.DataFrame'>\n",
      "RangeIndex: 76792 entries, 0 to 76791\n",
      "Data columns (total 14 columns):\n",
      " #   Column       Non-Null Count  Dtype \n",
      "---  ------       --------------  ----- \n",
      " 0   dia_ocu      76792 non-null  int64 \n",
      " 1   mes_ocu      76792 non-null  object\n",
      " 2   dia_sem_ocu  76792 non-null  object\n",
      " 3   hora_ocu     76792 non-null  object\n",
      " 4   depto_ocu    76792 non-null  object\n",
      " 5   zona_ocu     76792 non-null  object\n",
      " 6   sexo_pil     76792 non-null  object\n",
      " 7   edad_pil     76792 non-null  object\n",
      " 8   mayor_menor  76792 non-null  object\n",
      " 9   estado_pil   76792 non-null  object\n",
      " 10  tipo_vehi    76792 non-null  object\n",
      " 11  marca_vehi   76792 non-null  object\n",
      " 12  causa_acc    76792 non-null  object\n",
      " 13  year         76792 non-null  int64 \n",
      "dtypes: int64(2), object(12)\n",
      "memory usage: 8.2+ MB\n"
     ]
    }
   ],
   "source": [
    "df.info()"
   ],
   "metadata": {
    "collapsed": false,
    "ExecuteTime": {
     "end_time": "2024-03-17T00:42:36.038660700Z",
     "start_time": "2024-03-17T00:42:35.976460600Z"
    }
   },
   "id": "251434be4a55e842",
   "execution_count": 352
  },
  {
   "cell_type": "code",
   "outputs": [],
   "source": [
    "# Separate numerical and categorical columns\n",
    "numerical = df.select_dtypes(include=['int64', 'float64']).columns\n",
    "categorical = df.select_dtypes(include=['object']).columns"
   ],
   "metadata": {
    "collapsed": false,
    "ExecuteTime": {
     "end_time": "2024-03-17T00:42:36.121448100Z",
     "start_time": "2024-03-17T00:42:36.019174900Z"
    }
   },
   "id": "ac5a0cadeb53aa90",
   "execution_count": 353
  },
  {
   "cell_type": "code",
   "outputs": [
    {
     "data": {
      "text/plain": "dia_ocu    0\nyear       0\ndtype: int64"
     },
     "execution_count": 354,
     "metadata": {},
     "output_type": "execute_result"
    }
   ],
   "source": [
    "# Numerical NA's\n",
    "df[numerical].isna().sum()"
   ],
   "metadata": {
    "collapsed": false,
    "ExecuteTime": {
     "end_time": "2024-03-17T00:42:36.122445200Z",
     "start_time": "2024-03-17T00:42:36.042199800Z"
    }
   },
   "id": "ce26970cf77237b4",
   "execution_count": 354
  },
  {
   "cell_type": "markdown",
   "source": [
    "Dada la naturaleza con la que la información fue recolectada, los datos no son consistentes en cuanto a sus mayúsculas y minúsculas. Tampoco se tienen valores nulos, si no que aparecen como \"ignorado\", por lo que es necesario su tratamiento."
   ],
   "metadata": {
    "collapsed": false
   },
   "id": "bab5ed7e8d723eb5"
  },
  {
   "cell_type": "code",
   "outputs": [],
   "source": [
    "# To lower Case\n",
    "df[categorical] = df[categorical].apply(lambda x: x.str.lower())"
   ],
   "metadata": {
    "collapsed": false,
    "ExecuteTime": {
     "end_time": "2024-03-17T00:42:36.253363100Z",
     "start_time": "2024-03-17T00:42:36.051322800Z"
    }
   },
   "id": "8be7efedd4e535f9",
   "execution_count": 355
  },
  {
   "cell_type": "markdown",
   "source": [
    "## Corrección de variables"
   ],
   "metadata": {
    "collapsed": false
   },
   "id": "fa32752782f929ec"
  },
  {
   "cell_type": "code",
   "outputs": [
    {
     "name": "stdout",
     "output_type": "stream",
     "text": [
      "mes_ocu\n",
      "abril         6583\n",
      "agosto        6484\n",
      "diciembre     6612\n",
      "enero         6646\n",
      "febrero       6603\n",
      "julio         6330\n",
      "junio         6206\n",
      "marzo         7090\n",
      "mayo          6466\n",
      "noviembre     5841\n",
      "octubre       5500\n",
      "septiembre    5767\n",
      "septiemre      664\n",
      "Name: count, dtype: int64\n",
      "dia_sem_ocu\n",
      "domingo      13992\n",
      "jueves        9648\n",
      "lunes        10108\n",
      "martes        8836\n",
      "miercoles     3629\n",
      "miércoles     5309\n",
      "sabado        5557\n",
      "sábado        8780\n",
      "viernes      10933\n",
      "Name: count, dtype: int64\n",
      "hora_ocu\n",
      "0           1098\n",
      "1            714\n",
      "10           662\n",
      "11           774\n",
      "12           719\n",
      "13           759\n",
      "14           863\n",
      "15           997\n",
      "16           912\n",
      "17          1189\n",
      "18          1261\n",
      "19          1463\n",
      "2            527\n",
      "20          1437\n",
      "21          1414\n",
      "22          1254\n",
      "23          1115\n",
      "3            408\n",
      "4            291\n",
      "5            414\n",
      "6            543\n",
      "7            702\n",
      "8            645\n",
      "9            608\n",
      "ignorada      15\n",
      "Name: count, dtype: int64\n",
      "depto_ocu\n",
      "alta verapaz       2933\n",
      "alta verpaz          73\n",
      "baja verapaz       1328\n",
      "chimaltenango      2866\n",
      "chiquimula         1652\n",
      "el progreso        1780\n",
      "escuintla          6055\n",
      "guatemala         30020\n",
      "huehuetenango      1546\n",
      "izabal             2689\n",
      "jalapa             1136\n",
      "jutiapa            2104\n",
      "peten              1128\n",
      "petén              1404\n",
      "quetzaltenango     2751\n",
      "quiche              721\n",
      "quiché              824\n",
      "retalhuleu         2159\n",
      "sacatepequez         58\n",
      "sacatepéquez       2371\n",
      "san marcos         1919\n",
      "santa rosa         2613\n",
      "solola              155\n",
      "sololá             1066\n",
      "suchitepequez       126\n",
      "suchitepéquez      2516\n",
      "totonicapan          30\n",
      "totonicapán         629\n",
      "zacapa             2140\n",
      "Name: count, dtype: int64\n",
      "zona_ocu\n",
      "1            3743\n",
      "10            796\n",
      "11           1300\n",
      "12           2149\n",
      "13            742\n",
      "14            122\n",
      "15            248\n",
      "16            240\n",
      "17            344\n",
      "18           1529\n",
      "19            250\n",
      "2             761\n",
      "21            249\n",
      "24             35\n",
      "25            129\n",
      "3            1026\n",
      "4             737\n",
      "5             995\n",
      "6            1381\n",
      "7            2050\n",
      "8             574\n",
      "9             967\n",
      "ignorada    39562\n",
      "ignorado    16863\n",
      "Name: count, dtype: int64\n",
      "sexo_pil\n",
      "hombre      62505\n",
      "ignorado     9603\n",
      "mujer        4684\n",
      "Name: count, dtype: int64\n",
      "edad_pil\n",
      "10              5\n",
      "11              4\n",
      "12             22\n",
      "13             47\n",
      "14            130\n",
      "            ...  \n",
      "92              2\n",
      "94              1\n",
      "95              2\n",
      "ignorada    13352\n",
      "ignorado     3519\n",
      "Name: count, Length: 91, dtype: int64\n",
      "mayor_menor\n",
      "ignorado    12572\n",
      "mayor       62339\n",
      "menor        1881\n",
      "Name: count, dtype: int64\n",
      "estado_pil\n",
      "10            151\n",
      "11            108\n",
      "12             66\n",
      "13             56\n",
      "14             30\n",
      "15             12\n",
      "16             10\n",
      "17              4\n",
      "18            725\n",
      "3              11\n",
      "4             203\n",
      "5             507\n",
      "6             468\n",
      "7             392\n",
      "8             305\n",
      "ebrio        6373\n",
      "ignorado    45844\n",
      "no ebrio    16516\n",
      "normal       5011\n",
      "Name: count, dtype: int64\n",
      "tipo_vehi\n",
      "automovil           2183\n",
      "automóvil          14068\n",
      "bicicleta            150\n",
      "bus escolar            3\n",
      "bus extraurbano      552\n",
      "bus urbano          2049\n",
      "cabezal             2389\n",
      "camioneta           5012\n",
      "camión              4076\n",
      "cuatrimoto           131\n",
      "furgon                 2\n",
      "furgoneta              1\n",
      "furgón                 4\n",
      "grua                   2\n",
      "grúa                  20\n",
      "ignorado            4247\n",
      "jeep                  97\n",
      "microbus             569\n",
      "microbús            1276\n",
      "montacargas            2\n",
      "moto taxi            957\n",
      "motocicleta        28029\n",
      "mototaxi             179\n",
      "panel                536\n",
      "pick up            10058\n",
      "taxi                 149\n",
      "tractor               51\n",
      "Name: count, dtype: int64\n",
      "marca_vehi\n",
      "acura           21\n",
      "ahm             93\n",
      "ape city         2\n",
      "asia hero      567\n",
      "audi            64\n",
      "              ... \n",
      "yamaha         991\n",
      "yiben            3\n",
      "yumbo dakar    189\n",
      "zongshen         5\n",
      "zx auto          9\n",
      "Name: count, Length: 177, dtype: int64\n",
      "causa_acc\n",
      "atropello     14473\n",
      "caida           332\n",
      "caída          1099\n",
      "choque         5010\n",
      "colision      19719\n",
      "colisión      31451\n",
      "derrape        1851\n",
      "embarranco      105\n",
      "embarrancó       55\n",
      "empotro         483\n",
      "encuneto         10\n",
      "ignorado         27\n",
      "volco           324\n",
      "vuelco         1853\n",
      "Name: count, dtype: int64\n"
     ]
    }
   ],
   "source": [
    "# Categorical variables\n",
    "for col in categorical:\n",
    "    # Print them sorted\n",
    "    print(df[col].value_counts().sort_index())"
   ],
   "metadata": {
    "collapsed": false,
    "ExecuteTime": {
     "end_time": "2024-03-17T00:42:36.340026800Z",
     "start_time": "2024-03-17T00:42:36.244850500Z"
    }
   },
   "id": "6d120248c813fd2b",
   "execution_count": 356
  },
  {
   "cell_type": "markdown",
   "source": [
    "Muchos datos están inconsistentes por culpa de las tíldes, por lo que se procede a corregirlos."
   ],
   "metadata": {
    "collapsed": false
   },
   "id": "1db7e7018ccb62e0"
  },
  {
   "cell_type": "code",
   "outputs": [],
   "source": [
    "accented_vowels = {\n",
    "    'á': 'a',\n",
    "    'é': 'e',\n",
    "    'í': 'i',\n",
    "    'ó': 'o',\n",
    "    'ú': 'u',\n",
    "    'Á': 'A',\n",
    "    'É': 'E',\n",
    "    'Í': 'I',\n",
    "    'Ó': 'O',\n",
    "    'Ú': 'U'\n",
    "}\n",
    "\n",
    "df.replace(accented_vowels, regex=True, inplace=True)\n",
    "\n",
    "# Replace all 'ignorada' and 'ignorado' with 'NA' in the categorical columns\n",
    "df[categorical] = df[categorical].replace(['ignorada', 'ignorado'], np.nan)"
   ],
   "metadata": {
    "collapsed": false,
    "ExecuteTime": {
     "end_time": "2024-03-17T00:42:44.590442900Z",
     "start_time": "2024-03-17T00:42:36.341024300Z"
    }
   },
   "id": "926af9d29ce52654",
   "execution_count": 357
  },
  {
   "cell_type": "markdown",
   "source": [
    "También algunos están mal escritos"
   ],
   "metadata": {
    "collapsed": false
   },
   "id": "55b02a89d2dbf62c"
  },
  {
   "cell_type": "code",
   "outputs": [],
   "source": [
    "df['depto_ocu'] = df['depto_ocu'].replace('alta verpaz', 'alta verapaz')\n",
    "df['mes_ocu'] = df['mes_ocu'].replace('septiemre', 'septiembre')\n",
    "df['causa_acc'] = df['causa_acc'].replace('volco', 'vuelco')\n",
    "df['tipo_vehi'] = df['tipo_vehi'].replace('moto taxi', 'mototaxi')\n",
    "# df['causa_acc'] = df['causa_acc'].replace('choque', 'colision')"
   ],
   "metadata": {
    "collapsed": false,
    "ExecuteTime": {
     "end_time": "2024-03-17T00:42:44.631327600Z",
     "start_time": "2024-03-17T00:42:44.592410800Z"
    }
   },
   "id": "c4818afd0e964795",
   "execution_count": 358
  },
  {
   "cell_type": "markdown",
   "source": [
    "Existen algunos valores en _estado\\_pil_ con valor numérico. En base al diccionario de variables proveído por el INE, son cambiados"
   ],
   "metadata": {
    "collapsed": false
   },
   "id": "103cb184c435a9d2"
  },
  {
   "cell_type": "code",
   "outputs": [],
   "source": [
    "df['estado_pil'] = df['estado_pil'].replace(['1', '2', '3', '4', '5', '6', '7', '8', '9'], 'ebrio')\n",
    "df['estado_pil'] = df['estado_pil'].replace(['10', '11', '12', '13', '14', '15', '16', '17', '18', '19'], 'no ebrio')\n",
    "df['estado_pil'] = df['estado_pil'].replace('normal', 'no ebrio')"
   ],
   "metadata": {
    "collapsed": false,
    "ExecuteTime": {
     "end_time": "2024-03-17T00:42:44.680188400Z",
     "start_time": "2024-03-17T00:42:44.630329200Z"
    }
   },
   "id": "7456fab5823fbe6b",
   "execution_count": 359
  },
  {
   "cell_type": "code",
   "outputs": [
    {
     "name": "stdout",
     "output_type": "stream",
     "text": [
      "mes_ocu\n",
      "abril         6583\n",
      "agosto        6484\n",
      "diciembre     6612\n",
      "enero         6646\n",
      "febrero       6603\n",
      "julio         6330\n",
      "junio         6206\n",
      "marzo         7090\n",
      "mayo          6466\n",
      "noviembre     5841\n",
      "octubre       5500\n",
      "septiembre    6431\n",
      "Name: count, dtype: int64\n",
      "dia_sem_ocu\n",
      "domingo      13992\n",
      "jueves        9648\n",
      "lunes        10108\n",
      "martes        8836\n",
      "miercoles     8938\n",
      "sabado       14337\n",
      "viernes      10933\n",
      "Name: count, dtype: int64\n",
      "hora_ocu\n",
      "0     1098\n",
      "1      714\n",
      "10     662\n",
      "11     774\n",
      "12     719\n",
      "13     759\n",
      "14     863\n",
      "15     997\n",
      "16     912\n",
      "17    1189\n",
      "18    1261\n",
      "19    1463\n",
      "2      527\n",
      "20    1437\n",
      "21    1414\n",
      "22    1254\n",
      "23    1115\n",
      "3      408\n",
      "4      291\n",
      "5      414\n",
      "6      543\n",
      "7      702\n",
      "8      645\n",
      "9      608\n",
      "Name: count, dtype: int64\n",
      "depto_ocu\n",
      "alta verapaz       3006\n",
      "baja verapaz       1328\n",
      "chimaltenango      2866\n",
      "chiquimula         1652\n",
      "el progreso        1780\n",
      "escuintla          6055\n",
      "guatemala         30020\n",
      "huehuetenango      1546\n",
      "izabal             2689\n",
      "jalapa             1136\n",
      "jutiapa            2104\n",
      "peten              2532\n",
      "quetzaltenango     2751\n",
      "quiche             1545\n",
      "retalhuleu         2159\n",
      "sacatepequez       2429\n",
      "san marcos         1919\n",
      "santa rosa         2613\n",
      "solola             1221\n",
      "suchitepequez      2642\n",
      "totonicapan         659\n",
      "zacapa             2140\n",
      "Name: count, dtype: int64\n",
      "zona_ocu\n",
      "1     3743\n",
      "10     796\n",
      "11    1300\n",
      "12    2149\n",
      "13     742\n",
      "14     122\n",
      "15     248\n",
      "16     240\n",
      "17     344\n",
      "18    1529\n",
      "19     250\n",
      "2      761\n",
      "21     249\n",
      "24      35\n",
      "25     129\n",
      "3     1026\n",
      "4      737\n",
      "5      995\n",
      "6     1381\n",
      "7     2050\n",
      "8      574\n",
      "9      967\n",
      "Name: count, dtype: int64\n",
      "sexo_pil\n",
      "hombre    62505\n",
      "mujer      4684\n",
      "Name: count, dtype: int64\n",
      "edad_pil\n",
      "10      5\n",
      "11      4\n",
      "12     22\n",
      "13     47\n",
      "14    130\n",
      "     ... \n",
      "9       1\n",
      "90      2\n",
      "92      2\n",
      "94      1\n",
      "95      2\n",
      "Name: count, Length: 89, dtype: int64\n",
      "mayor_menor\n",
      "mayor    62339\n",
      "menor     1881\n",
      "Name: count, dtype: int64\n",
      "estado_pil\n",
      "ebrio        8259\n",
      "no ebrio    22689\n",
      "Name: count, dtype: int64\n",
      "tipo_vehi\n",
      "automovil          16251\n",
      "bicicleta            150\n",
      "bus escolar            3\n",
      "bus extraurbano      552\n",
      "bus urbano          2049\n",
      "cabezal             2389\n",
      "camion              4076\n",
      "camioneta           5012\n",
      "cuatrimoto           131\n",
      "furgon                 6\n",
      "furgoneta              1\n",
      "grua                  22\n",
      "jeep                  97\n",
      "microbus            1845\n",
      "montacargas            2\n",
      "motocicleta        28029\n",
      "mototaxi            1136\n",
      "panel                536\n",
      "pick up            10058\n",
      "taxi                 149\n",
      "tractor               51\n",
      "Name: count, dtype: int64\n",
      "marca_vehi\n",
      "acura           21\n",
      "ahm             93\n",
      "ape city         2\n",
      "asia hero      567\n",
      "audi            64\n",
      "              ... \n",
      "yamaha         991\n",
      "yiben            3\n",
      "yumbo dakar    189\n",
      "zongshen         5\n",
      "zx auto          9\n",
      "Name: count, Length: 176, dtype: int64\n",
      "causa_acc\n",
      "atropello     14473\n",
      "caida          1431\n",
      "choque         5010\n",
      "colision      51170\n",
      "derrape        1851\n",
      "embarranco      160\n",
      "empotro         483\n",
      "encuneto         10\n",
      "vuelco         2177\n",
      "Name: count, dtype: int64\n"
     ]
    }
   ],
   "source": [
    "# Categorical variables\n",
    "for col in categorical:\n",
    "    # Print them sorted\n",
    "    print(df[col].value_counts().sort_index())"
   ],
   "metadata": {
    "collapsed": false,
    "ExecuteTime": {
     "end_time": "2024-03-17T00:42:44.754997400Z",
     "start_time": "2024-03-17T00:42:44.681184900Z"
    }
   },
   "id": "bc996d75fba8784",
   "execution_count": 360
  },
  {
   "cell_type": "markdown",
   "source": [
    "Arreglando los valores nulos, se convierten en columnas numéricas"
   ],
   "metadata": {
    "collapsed": false
   },
   "id": "b90e811cc5b6ccc9"
  },
  {
   "cell_type": "code",
   "outputs": [],
   "source": [
    "import numpy as np\n",
    "\n",
    "df['hora_ocu'] = df['hora_ocu'].replace('NA', np.nan).astype(float)\n",
    "df['zona_ocu'] = df['zona_ocu'].replace('NA', np.nan).astype(float)\n",
    "df['edad_pil'] = df['edad_pil'].replace('NA', np.nan).astype(float)\n",
    "\n",
    "categorical = categorical.drop(['hora_ocu', 'zona_ocu', 'edad_pil'])\n",
    "numerical = numerical.append(pd.Index(['hora_ocu', 'zona_ocu', 'edad_pil']))"
   ],
   "metadata": {
    "collapsed": false,
    "ExecuteTime": {
     "end_time": "2024-03-17T00:42:44.798477900Z",
     "start_time": "2024-03-17T00:42:44.750009100Z"
    }
   },
   "id": "b226a2ade4c05d69",
   "execution_count": 361
  },
  {
   "cell_type": "markdown",
   "source": [
    "Realizaremos algunos ajustes a los datos de la edad del piloto, particularmente la bandera de _mayor\\_menor_ si la edad es menor a 18 años. NaN si no se tiene la edad."
   ],
   "metadata": {
    "collapsed": false
   },
   "id": "23e5d0be7819c55"
  },
  {
   "cell_type": "code",
   "outputs": [],
   "source": [
    "df['mayor_menor'] = np.where(df['edad_pil'], 'menor', 'mayor')"
   ],
   "metadata": {
    "collapsed": false,
    "ExecuteTime": {
     "end_time": "2024-03-17T00:42:44.813787600Z",
     "start_time": "2024-03-17T00:42:44.793393600Z"
    }
   },
   "id": "ca9515c88c426eae",
   "execution_count": 362
  },
  {
   "cell_type": "markdown",
   "source": [
    "## Análisis de variables"
   ],
   "metadata": {
    "collapsed": false
   },
   "id": "15dcad5cd93c6ee4"
  },
  {
   "cell_type": "markdown",
   "source": [
    "### Ajuste de valores nulos"
   ],
   "metadata": {
    "collapsed": false
   },
   "id": "2a30eae6db764802"
  },
  {
   "cell_type": "code",
   "outputs": [
    {
     "data": {
      "text/plain": "mes_ocu            0\ndia_sem_ocu        0\ndepto_ocu          0\nsexo_pil        9603\nmayor_menor        0\nestado_pil     45844\ntipo_vehi       4247\nmarca_vehi     21676\ncausa_acc         27\ndtype: int64"
     },
     "execution_count": 363,
     "metadata": {},
     "output_type": "execute_result"
    }
   ],
   "source": [
    "df[categorical].isnull().sum()"
   ],
   "metadata": {
    "collapsed": false,
    "ExecuteTime": {
     "end_time": "2024-03-17T00:42:44.868648900Z",
     "start_time": "2024-03-17T00:42:44.813787600Z"
    }
   },
   "id": "eeb449aa2e73b1cc",
   "execution_count": 363
  },
  {
   "cell_type": "code",
   "outputs": [
    {
     "data": {
      "text/plain": "dia_ocu         0\nyear            0\nhora_ocu    56023\nzona_ocu    56425\nedad_pil    16871\ndtype: int64"
     },
     "execution_count": 364,
     "metadata": {},
     "output_type": "execute_result"
    }
   ],
   "source": [
    "df[numerical].isnull().sum()"
   ],
   "metadata": {
    "collapsed": false,
    "ExecuteTime": {
     "end_time": "2024-03-17T00:42:44.877519700Z",
     "start_time": "2024-03-17T00:42:44.863850Z"
    }
   },
   "id": "6031adc5e4045bd2",
   "execution_count": 364
  },
  {
   "cell_type": "markdown",
   "source": [
    "#### Categóricas\n",
    "- _sexo\\_pil_: los valores nulos serán seleccionados aleatoriamente.\n",
    "- _estado\\_pil_: los valores no especificados se representarán en una nueva categoría.\n",
    "- _marca\\_vehi_: los valores nulos se representarán en una nueva categoría.\n",
    "- _tipo\\_vehi_: los valores nulos serán seleccionados aleatoriamente.\n",
    "- _causa\\_acc_: se eliminará esas observaciones al no ser una cantidad de datos relevantes.\n",
    "\n",
    "#### Numéricas\n",
    "- _hora\\_ocu_: los valores nulos se representarán en una nueva categoría.\n",
    "- _zona\\_ocu_: esta característica no es relevante para el análisis y contiene una cantidad significativa de datos nulos; por lo que se eliminará.\n",
    "- _edad\\_pil_: los valores nulos serán reemplazados por la mediana."
   ],
   "metadata": {
    "collapsed": false
   },
   "id": "e0d0f8e34e145f5"
  },
  {
   "cell_type": "code",
   "outputs": [],
   "source": [
    "# Categorical variables\n",
    "df['sexo_pil'] = df['sexo_pil'].fillna(\n",
    "    df['sexo_pil'].sample(frac=1, random_state=seed).iloc[0]\n",
    ")\n",
    "\n",
    "df['estado_pil'] = df['estado_pil'].fillna('no especificado')\n",
    "\n",
    "df['marca_vehi'] = df['marca_vehi'].fillna('no especificado')\n",
    "\n",
    "df['tipo_vehi'] = df['tipo_vehi'].fillna(\n",
    "    df['tipo_vehi'].sample(frac=1, random_state=seed).iloc[0]\n",
    ")\n",
    "\n",
    "df = df.dropna(subset=['causa_acc'])\n",
    "\n",
    "\n",
    "# Numerical variables\n",
    "df = df.drop(columns=['zona_ocu'])\n",
    "numerical = numerical.drop('zona_ocu')\n",
    "\n",
    "df['hora_ocu_missing'] = df['hora_ocu'].isna().astype(int)\n",
    "df['hora_ocu'] = df['hora_ocu'].fillna(df['hora_ocu'].mode()[0])\n",
    "\n",
    "df['edad_pil'] = df['edad_pil'].fillna(df['edad_pil'].median())"
   ],
   "metadata": {
    "collapsed": false,
    "ExecuteTime": {
     "end_time": "2024-03-17T00:42:44.949536600Z",
     "start_time": "2024-03-17T00:42:44.874891400Z"
    }
   },
   "id": "d9e6b5ba74435ce0",
   "execution_count": 365
  }
 ],
 "metadata": {
  "kernelspec": {
   "display_name": "Python 3",
   "language": "python",
   "name": "python3"
  },
  "language_info": {
   "codemirror_mode": {
    "name": "ipython",
    "version": 2
   },
   "file_extension": ".py",
   "mimetype": "text/x-python",
   "name": "python",
   "nbconvert_exporter": "python",
   "pygments_lexer": "ipython2",
   "version": "2.7.6"
  }
 },
 "nbformat": 4,
 "nbformat_minor": 5
}
