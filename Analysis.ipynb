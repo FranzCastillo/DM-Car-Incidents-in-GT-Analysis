{
 "cells": [
  {
   "cell_type": "code",
   "execution_count": 126,
   "id": "initial_id",
   "metadata": {
    "collapsed": true,
    "ExecuteTime": {
     "end_time": "2024-03-15T05:14:39.367733400Z",
     "start_time": "2024-03-15T05:14:39.351085200Z"
    }
   },
   "outputs": [],
   "source": [
    "import pandas as pd"
   ]
  },
  {
   "cell_type": "code",
   "outputs": [],
   "source": [
    "# Load the data\n",
    "df_2011 = pd.read_csv('data/2011.csv')\n",
    "df_2013 = pd.read_csv('data/2013.csv')\n",
    "df_2014 = pd.read_csv('data/2014.csv')\n",
    "df_2016 = pd.read_csv('data/2016.csv')\n",
    "df_2017 = pd.read_csv('data/2017.csv')\n",
    "df_2018 = pd.read_csv('data/2018.csv')\n",
    "df_2019 = pd.read_csv('data/2019.csv')\n",
    "df_2020 = pd.read_csv('data/2020.csv')\n",
    "df_2022 = pd.read_csv('data/2022.csv')"
   ],
   "metadata": {
    "collapsed": false,
    "ExecuteTime": {
     "end_time": "2024-03-15T05:14:39.535111400Z",
     "start_time": "2024-03-15T05:14:39.373741500Z"
    }
   },
   "id": "4d0d5c2bf1dfdd17",
   "execution_count": 127
  },
  {
   "cell_type": "code",
   "outputs": [],
   "source": [
    "# Concatenate the data with only the columns that are present in the df_2011\n",
    "df = pd.concat([\n",
    "    df_2011,\n",
    "    df_2013,\n",
    "    df_2014,\n",
    "    df_2016,\n",
    "    df_2017,\n",
    "    df_2018,\n",
    "    df_2019,\n",
    "    df_2020,\n",
    "    df_2022\n",
    "], axis=0, ignore_index=True)"
   ],
   "metadata": {
    "collapsed": false,
    "ExecuteTime": {
     "end_time": "2024-03-15T05:14:39.556748600Z",
     "start_time": "2024-03-15T05:14:39.536106500Z"
    }
   },
   "id": "50402c6ac59d012b",
   "execution_count": 128
  },
  {
   "cell_type": "code",
   "outputs": [
    {
     "data": {
      "text/plain": "   dia_ocu     mes_ocu dia_sem_ocu hora_ocu       depto_ocu  zona_ocu  \\\n0       27       Junio       Lunes       17       Guatemala        10   \n1       18  Septiembre     Domingo        0       Guatemala         7   \n2        5     Octubre   Miercoles       19  Quetzaltenango  Ignorado   \n3       15     Febrero      Martes       12          Izabal  Ignorado   \n4       17       Junio     Viernes       18       Guatemala        11   \n\n  sexo_pil edad_pil mayor_menor estado_pil  tipo_vehi  marca_vehi causa_acc  \\\n0   Hombre       42       Mayor     Normal  Automovil        Audi  Colisión   \n1   Hombre       25       Mayor      Ebrio  Automovil        Audi   Empotro   \n2   Hombre       26       Mayor      Ebrio  Automovil        Audi  Colisión   \n3   Hombre       59       Mayor   Ignorado  Camioneta  Land rover  Colisión   \n4    Mujer       25       Mayor     Normal  Camioneta  Land rover  Colisión   \n\n   year  \n0  2011  \n1  2011  \n2  2011  \n3  2011  \n4  2011  ",
      "text/html": "<div>\n<style scoped>\n    .dataframe tbody tr th:only-of-type {\n        vertical-align: middle;\n    }\n\n    .dataframe tbody tr th {\n        vertical-align: top;\n    }\n\n    .dataframe thead th {\n        text-align: right;\n    }\n</style>\n<table border=\"1\" class=\"dataframe\">\n  <thead>\n    <tr style=\"text-align: right;\">\n      <th></th>\n      <th>dia_ocu</th>\n      <th>mes_ocu</th>\n      <th>dia_sem_ocu</th>\n      <th>hora_ocu</th>\n      <th>depto_ocu</th>\n      <th>zona_ocu</th>\n      <th>sexo_pil</th>\n      <th>edad_pil</th>\n      <th>mayor_menor</th>\n      <th>estado_pil</th>\n      <th>tipo_vehi</th>\n      <th>marca_vehi</th>\n      <th>causa_acc</th>\n      <th>year</th>\n    </tr>\n  </thead>\n  <tbody>\n    <tr>\n      <th>0</th>\n      <td>27</td>\n      <td>Junio</td>\n      <td>Lunes</td>\n      <td>17</td>\n      <td>Guatemala</td>\n      <td>10</td>\n      <td>Hombre</td>\n      <td>42</td>\n      <td>Mayor</td>\n      <td>Normal</td>\n      <td>Automovil</td>\n      <td>Audi</td>\n      <td>Colisión</td>\n      <td>2011</td>\n    </tr>\n    <tr>\n      <th>1</th>\n      <td>18</td>\n      <td>Septiembre</td>\n      <td>Domingo</td>\n      <td>0</td>\n      <td>Guatemala</td>\n      <td>7</td>\n      <td>Hombre</td>\n      <td>25</td>\n      <td>Mayor</td>\n      <td>Ebrio</td>\n      <td>Automovil</td>\n      <td>Audi</td>\n      <td>Empotro</td>\n      <td>2011</td>\n    </tr>\n    <tr>\n      <th>2</th>\n      <td>5</td>\n      <td>Octubre</td>\n      <td>Miercoles</td>\n      <td>19</td>\n      <td>Quetzaltenango</td>\n      <td>Ignorado</td>\n      <td>Hombre</td>\n      <td>26</td>\n      <td>Mayor</td>\n      <td>Ebrio</td>\n      <td>Automovil</td>\n      <td>Audi</td>\n      <td>Colisión</td>\n      <td>2011</td>\n    </tr>\n    <tr>\n      <th>3</th>\n      <td>15</td>\n      <td>Febrero</td>\n      <td>Martes</td>\n      <td>12</td>\n      <td>Izabal</td>\n      <td>Ignorado</td>\n      <td>Hombre</td>\n      <td>59</td>\n      <td>Mayor</td>\n      <td>Ignorado</td>\n      <td>Camioneta</td>\n      <td>Land rover</td>\n      <td>Colisión</td>\n      <td>2011</td>\n    </tr>\n    <tr>\n      <th>4</th>\n      <td>17</td>\n      <td>Junio</td>\n      <td>Viernes</td>\n      <td>18</td>\n      <td>Guatemala</td>\n      <td>11</td>\n      <td>Mujer</td>\n      <td>25</td>\n      <td>Mayor</td>\n      <td>Normal</td>\n      <td>Camioneta</td>\n      <td>Land rover</td>\n      <td>Colisión</td>\n      <td>2011</td>\n    </tr>\n  </tbody>\n</table>\n</div>"
     },
     "execution_count": 129,
     "metadata": {},
     "output_type": "execute_result"
    }
   ],
   "source": [
    "df.head()"
   ],
   "metadata": {
    "collapsed": false,
    "ExecuteTime": {
     "end_time": "2024-03-15T05:14:39.642478500Z",
     "start_time": "2024-03-15T05:14:39.556748600Z"
    }
   },
   "id": "da4dbda93cb98e97",
   "execution_count": 129
  }
 ],
 "metadata": {
  "kernelspec": {
   "display_name": "Python 3",
   "language": "python",
   "name": "python3"
  },
  "language_info": {
   "codemirror_mode": {
    "name": "ipython",
    "version": 2
   },
   "file_extension": ".py",
   "mimetype": "text/x-python",
   "name": "python",
   "nbconvert_exporter": "python",
   "pygments_lexer": "ipython2",
   "version": "2.7.6"
  }
 },
 "nbformat": 4,
 "nbformat_minor": 5
}
